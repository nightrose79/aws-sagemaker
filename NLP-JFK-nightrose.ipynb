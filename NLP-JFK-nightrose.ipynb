{
 "cells": [
  {
   "cell_type": "code",
   "execution_count": 19,
   "metadata": {},
   "outputs": [
    {
     "name": "stdout",
     "output_type": "stream",
     "text": [
      "NLP-JFK-nightrose.ipynb  README.md   test.csv\t      titles.csv\r\n",
      "readme.md\t\t readme.txt  titles_1000.csv  train.csv\r\n"
     ]
    }
   ],
   "source": [
    "!ls"
   ]
  },
  {
   "cell_type": "code",
   "execution_count": 62,
   "metadata": {},
   "outputs": [
    {
     "name": "stdout",
     "output_type": "stream",
     "text": [
      "tar (child): Cannot connect to s3: resolve failed\r\n",
      "\r\n",
      "gzip: stdin: unexpected end of file\r\n",
      "tar: Child returned status 128\r\n",
      "tar: Error is not recoverable: exiting now\r\n"
     ]
    }
   ],
   "source": [
    "import pandas as pd\n",
    "\n",
    "#!mkdir /Data\n",
    "#!aws s3 cp s3://nlp-workshop-reviews/amazon_review_polarity_csv.tgz /Data\n",
    "!tar -xvzf s3://nlp-amazon-review/amazon_review_polarity_csv.tgz\n",
    "#df = pd.read_csv(\"s3://nlp-amazon-review/amazon_review_polarity_csv/train.csv\", names=[\"Label\", \"Title\", \"Review\"])"
   ]
  },
  {
   "cell_type": "code",
   "execution_count": 20,
   "metadata": {},
   "outputs": [
    {
     "data": {
      "text/plain": [
       "(3600000, 3)"
      ]
     },
     "execution_count": 20,
     "metadata": {},
     "output_type": "execute_result"
    }
   ],
   "source": [
    "import pandas as pd\n",
    "df = pd.read_csv(\"train.csv\", names=[\"Label\", \"Title\", \"Review\"])\n",
    "df.shape"
   ]
  },
  {
   "cell_type": "code",
   "execution_count": 15,
   "metadata": {},
   "outputs": [
    {
     "data": {
      "text/html": [
       "<div>\n",
       "<style scoped>\n",
       "    .dataframe tbody tr th:only-of-type {\n",
       "        vertical-align: middle;\n",
       "    }\n",
       "\n",
       "    .dataframe tbody tr th {\n",
       "        vertical-align: top;\n",
       "    }\n",
       "\n",
       "    .dataframe thead th {\n",
       "        text-align: right;\n",
       "    }\n",
       "</style>\n",
       "<table border=\"1\" class=\"dataframe\">\n",
       "  <thead>\n",
       "    <tr style=\"text-align: right;\">\n",
       "      <th></th>\n",
       "      <th>Label</th>\n",
       "      <th>Title</th>\n",
       "      <th>Review</th>\n",
       "    </tr>\n",
       "  </thead>\n",
       "  <tbody>\n",
       "    <tr>\n",
       "      <th>0</th>\n",
       "      <td>2</td>\n",
       "      <td>Stuning even for the non-gamer</td>\n",
       "      <td>This sound track was beautiful! It paints the ...</td>\n",
       "    </tr>\n",
       "    <tr>\n",
       "      <th>1</th>\n",
       "      <td>2</td>\n",
       "      <td>The best soundtrack ever to anything.</td>\n",
       "      <td>I'm reading a lot of reviews saying that this ...</td>\n",
       "    </tr>\n",
       "    <tr>\n",
       "      <th>2</th>\n",
       "      <td>2</td>\n",
       "      <td>Amazing!</td>\n",
       "      <td>This soundtrack is my favorite music of all ti...</td>\n",
       "    </tr>\n",
       "    <tr>\n",
       "      <th>3</th>\n",
       "      <td>2</td>\n",
       "      <td>Excellent Soundtrack</td>\n",
       "      <td>I truly like this soundtrack and I enjoy video...</td>\n",
       "    </tr>\n",
       "    <tr>\n",
       "      <th>4</th>\n",
       "      <td>2</td>\n",
       "      <td>Remember, Pull Your Jaw Off The Floor After He...</td>\n",
       "      <td>If you've played the game, you know how divine...</td>\n",
       "    </tr>\n",
       "  </tbody>\n",
       "</table>\n",
       "</div>"
      ],
      "text/plain": [
       "   Label                                              Title  \\\n",
       "0      2                     Stuning even for the non-gamer   \n",
       "1      2              The best soundtrack ever to anything.   \n",
       "2      2                                           Amazing!   \n",
       "3      2                               Excellent Soundtrack   \n",
       "4      2  Remember, Pull Your Jaw Off The Floor After He...   \n",
       "\n",
       "                                              Review  \n",
       "0  This sound track was beautiful! It paints the ...  \n",
       "1  I'm reading a lot of reviews saying that this ...  \n",
       "2  This soundtrack is my favorite music of all ti...  \n",
       "3  I truly like this soundtrack and I enjoy video...  \n",
       "4  If you've played the game, you know how divine...  "
      ]
     },
     "execution_count": 15,
     "metadata": {},
     "output_type": "execute_result"
    }
   ],
   "source": [
    "df.head()"
   ]
  },
  {
   "cell_type": "code",
   "execution_count": 16,
   "metadata": {},
   "outputs": [
    {
     "data": {
      "text/plain": [
       "array([2, 1])"
      ]
     },
     "execution_count": 16,
     "metadata": {},
     "output_type": "execute_result"
    }
   ],
   "source": [
    "df.Label.unique()"
   ]
  },
  {
   "cell_type": "code",
   "execution_count": 17,
   "metadata": {},
   "outputs": [
    {
     "data": {
      "text/html": [
       "<div>\n",
       "<style scoped>\n",
       "    .dataframe tbody tr th:only-of-type {\n",
       "        vertical-align: middle;\n",
       "    }\n",
       "\n",
       "    .dataframe tbody tr th {\n",
       "        vertical-align: top;\n",
       "    }\n",
       "\n",
       "    .dataframe thead th {\n",
       "        text-align: right;\n",
       "    }\n",
       "</style>\n",
       "<table border=\"1\" class=\"dataframe\">\n",
       "  <thead>\n",
       "    <tr style=\"text-align: right;\">\n",
       "      <th></th>\n",
       "      <th>Label</th>\n",
       "      <th>Title</th>\n",
       "      <th>Review</th>\n",
       "    </tr>\n",
       "  </thead>\n",
       "  <tbody>\n",
       "    <tr>\n",
       "      <th>6</th>\n",
       "      <td>1</td>\n",
       "      <td>Buyer beware</td>\n",
       "      <td>This is a self-published book, and if you want...</td>\n",
       "    </tr>\n",
       "    <tr>\n",
       "      <th>10</th>\n",
       "      <td>1</td>\n",
       "      <td>The Worst!</td>\n",
       "      <td>A complete waste of time. Typographical errors...</td>\n",
       "    </tr>\n",
       "    <tr>\n",
       "      <th>13</th>\n",
       "      <td>1</td>\n",
       "      <td>Oh please</td>\n",
       "      <td>I guess you have to be a romance novel lover f...</td>\n",
       "    </tr>\n",
       "    <tr>\n",
       "      <th>14</th>\n",
       "      <td>1</td>\n",
       "      <td>Awful beyond belief!</td>\n",
       "      <td>I feel I have to write to keep others from was...</td>\n",
       "    </tr>\n",
       "    <tr>\n",
       "      <th>15</th>\n",
       "      <td>1</td>\n",
       "      <td>Don't try to fool us with fake reviews.</td>\n",
       "      <td>It's glaringly obvious that all of the glowing...</td>\n",
       "    </tr>\n",
       "  </tbody>\n",
       "</table>\n",
       "</div>"
      ],
      "text/plain": [
       "    Label                                    Title  \\\n",
       "6       1                             Buyer beware   \n",
       "10      1                               The Worst!   \n",
       "13      1                                Oh please   \n",
       "14      1                     Awful beyond belief!   \n",
       "15      1  Don't try to fool us with fake reviews.   \n",
       "\n",
       "                                               Review  \n",
       "6   This is a self-published book, and if you want...  \n",
       "10  A complete waste of time. Typographical errors...  \n",
       "13  I guess you have to be a romance novel lover f...  \n",
       "14  I feel I have to write to keep others from was...  \n",
       "15  It's glaringly obvious that all of the glowing...  "
      ]
     },
     "execution_count": 17,
     "metadata": {},
     "output_type": "execute_result"
    }
   ],
   "source": [
    "df[df.Label==1].head()"
   ]
  },
  {
   "cell_type": "code",
   "execution_count": 18,
   "metadata": {},
   "outputs": [
    {
     "data": {
      "text/plain": [
       "2    1800000\n",
       "1    1800000\n",
       "Name: Label, dtype: int64"
      ]
     },
     "execution_count": 18,
     "metadata": {},
     "output_type": "execute_result"
    }
   ],
   "source": [
    "df.Label.value_counts()"
   ]
  },
  {
   "cell_type": "code",
   "execution_count": 4,
   "metadata": {},
   "outputs": [
    {
     "name": "stdout",
     "output_type": "stream",
     "text": [
      "Calling DetectSentiment\n",
      "End of DetectSentiment\n",
      "\n"
     ]
    }
   ],
   "source": [
    "import boto3\n",
    "import json\n",
    "\n",
    "comprehend = boto3.client(service_name='comprehend', region_name='us-east-1')\n",
    "                \n",
    "text = \"It is raining today in Seattle\"\n",
    "\n",
    "print('Calling DetectSentiment')\n",
    "result=json.dumps(comprehend.detect_sentiment(Text=text, LanguageCode='en'), sort_keys=True, indent=4)\n",
    "print('End of DetectSentiment\\n')\n",
    "\n"
   ]
  },
  {
   "cell_type": "code",
   "execution_count": 33,
   "metadata": {},
   "outputs": [
    {
     "name": "stdout",
     "output_type": "stream",
     "text": [
      "Calling DetectSentiment\n",
      "End of DetectSentiment\n",
      "\n"
     ]
    }
   ],
   "source": [
    "text = \"It is raining today in Seattle\"\n",
    "\n",
    "print('Calling DetectSentiment')\n",
    "result=comprehend.detect_sentiment(Text=text,LanguageCode='en')\n",
    "#json.dumps(comprehend.detect_sentiment(Text=text, LanguageCode='en'), sort_keys=True, indent=4)\n",
    "print('End of DetectSentiment\\n')"
   ]
  },
  {
   "cell_type": "code",
   "execution_count": 36,
   "metadata": {},
   "outputs": [
    {
     "data": {
      "text/plain": [
       "'NEUTRAL'"
      ]
     },
     "execution_count": 36,
     "metadata": {},
     "output_type": "execute_result"
    }
   ],
   "source": [
    "result['Sentiment']"
   ]
  },
  {
   "cell_type": "code",
   "execution_count": 37,
   "metadata": {},
   "outputs": [],
   "source": [
    "titles=df.Title.tolist()"
   ]
  },
  {
   "cell_type": "code",
   "execution_count": 71,
   "metadata": {},
   "outputs": [],
   "source": [
    "reviews=df.Review.tolist()"
   ]
  },
  {
   "cell_type": "code",
   "execution_count": 103,
   "metadata": {},
   "outputs": [],
   "source": [
    "pd.DataFrame(titles[0:1000]).to_csv('titles_1000.csv')"
   ]
  },
  {
   "cell_type": "code",
   "execution_count": 104,
   "metadata": {},
   "outputs": [
    {
     "name": "stdout",
     "output_type": "stream",
     "text": [
      "Completed 28.7 KiB/28.7 KiB (215.7 KiB/s) with 1 file(s) remaining\r",
      "upload: ./titles_1000.csv to s3://nlp-amazon-review/title_1000.csv\r\n"
     ]
    }
   ],
   "source": [
    "!aws s3 cp titles_1000.csv s3://nlp-amazon-review/title_1000.csv"
   ]
  },
  {
   "cell_type": "code",
   "execution_count": 46,
   "metadata": {},
   "outputs": [],
   "source": [
    "import numpy as np\n",
    "titles_clean=['NAN' if x is np.nan else x for x in titles]"
   ]
  },
  {
   "cell_type": "code",
   "execution_count": 48,
   "metadata": {},
   "outputs": [
    {
     "data": {
      "text/plain": [
       "'NAN'"
      ]
     },
     "execution_count": 48,
     "metadata": {},
     "output_type": "execute_result"
    }
   ],
   "source": [
    "titles_clean[2372607]"
   ]
  },
  {
   "cell_type": "code",
   "execution_count": 54,
   "metadata": {},
   "outputs": [],
   "source": [
    "def call_batch(inputs):\n",
    "    response = comprehend.batch_detect_sentiment(\n",
    "        TextList=inputs,\n",
    "        LanguageCode='en'\n",
    "    )\n",
    "\n",
    "    return [x['Sentiment'] for x in response['ResultList']]"
   ]
  },
  {
   "cell_type": "code",
   "execution_count": null,
   "metadata": {},
   "outputs": [],
   "source": [
    "total_output_from_review"
   ]
  },
  {
   "cell_type": "code",
   "execution_count": 72,
   "metadata": {
    "collapsed": true
   },
   "outputs": [
    {
     "name": "stdout",
     "output_type": "stream",
     "text": [
      "0\n",
      "100\n",
      "200\n",
      "300\n",
      "400\n",
      "500\n"
     ]
    },
    {
     "ename": "KeyboardInterrupt",
     "evalue": "",
     "output_type": "error",
     "traceback": [
      "\u001b[0;31m---------------------------------------------------------------------------\u001b[0m",
      "\u001b[0;31mKeyboardInterrupt\u001b[0m                         Traceback (most recent call last)",
      "\u001b[0;32m<ipython-input-72-181af80bea6c>\u001b[0m in \u001b[0;36m<module>\u001b[0;34m()\u001b[0m\n\u001b[1;32m      6\u001b[0m     \u001b[0mbatch_idx\u001b[0m\u001b[0;34m=\u001b[0m\u001b[0;36m0\u001b[0m\u001b[0;34m+\u001b[0m\u001b[0mi\u001b[0m\u001b[0;34m*\u001b[0m\u001b[0;36m25\u001b[0m\u001b[0;34m\u001b[0m\u001b[0m\n\u001b[1;32m      7\u001b[0m     \u001b[0mtotal_output\u001b[0m\u001b[0;34m.\u001b[0m\u001b[0mextend\u001b[0m\u001b[0;34m(\u001b[0m\u001b[0mcall_batch\u001b[0m\u001b[0;34m(\u001b[0m\u001b[0mtitles_clean\u001b[0m\u001b[0;34m[\u001b[0m\u001b[0mbatch_idx\u001b[0m\u001b[0;34m:\u001b[0m\u001b[0mbatch_idx\u001b[0m\u001b[0;34m+\u001b[0m\u001b[0;36m25\u001b[0m\u001b[0;34m]\u001b[0m\u001b[0;34m)\u001b[0m\u001b[0;34m)\u001b[0m\u001b[0;34m\u001b[0m\u001b[0m\n\u001b[0;32m----> 8\u001b[0;31m     \u001b[0mtotal_output_from_review\u001b[0m\u001b[0;34m.\u001b[0m\u001b[0mextend\u001b[0m\u001b[0;34m(\u001b[0m\u001b[0mcall_batch\u001b[0m\u001b[0;34m(\u001b[0m\u001b[0mreviews\u001b[0m\u001b[0;34m[\u001b[0m\u001b[0mbatch_idx\u001b[0m\u001b[0;34m:\u001b[0m\u001b[0mbatch_idx\u001b[0m\u001b[0;34m+\u001b[0m\u001b[0;36m25\u001b[0m\u001b[0;34m]\u001b[0m\u001b[0;34m)\u001b[0m\u001b[0;34m)\u001b[0m\u001b[0;34m\u001b[0m\u001b[0m\n\u001b[0m",
      "\u001b[0;32m<ipython-input-54-8a19a3f21f15>\u001b[0m in \u001b[0;36mcall_batch\u001b[0;34m(inputs)\u001b[0m\n\u001b[1;32m      2\u001b[0m     response = comprehend.batch_detect_sentiment(\n\u001b[1;32m      3\u001b[0m         \u001b[0mTextList\u001b[0m\u001b[0;34m=\u001b[0m\u001b[0minputs\u001b[0m\u001b[0;34m,\u001b[0m\u001b[0;34m\u001b[0m\u001b[0m\n\u001b[0;32m----> 4\u001b[0;31m         \u001b[0mLanguageCode\u001b[0m\u001b[0;34m=\u001b[0m\u001b[0;34m'en'\u001b[0m\u001b[0;34m\u001b[0m\u001b[0m\n\u001b[0m\u001b[1;32m      5\u001b[0m     )\n\u001b[1;32m      6\u001b[0m \u001b[0;34m\u001b[0m\u001b[0m\n",
      "\u001b[0;32m~/anaconda3/envs/python3/lib/python3.6/site-packages/botocore/client.py\u001b[0m in \u001b[0;36m_api_call\u001b[0;34m(self, *args, **kwargs)\u001b[0m\n\u001b[1;32m    355\u001b[0m                     \"%s() only accepts keyword arguments.\" % py_operation_name)\n\u001b[1;32m    356\u001b[0m             \u001b[0;31m# The \"self\" in this scope is referring to the BaseClient.\u001b[0m\u001b[0;34m\u001b[0m\u001b[0;34m\u001b[0m\u001b[0m\n\u001b[0;32m--> 357\u001b[0;31m             \u001b[0;32mreturn\u001b[0m \u001b[0mself\u001b[0m\u001b[0;34m.\u001b[0m\u001b[0m_make_api_call\u001b[0m\u001b[0;34m(\u001b[0m\u001b[0moperation_name\u001b[0m\u001b[0;34m,\u001b[0m \u001b[0mkwargs\u001b[0m\u001b[0;34m)\u001b[0m\u001b[0;34m\u001b[0m\u001b[0m\n\u001b[0m\u001b[1;32m    358\u001b[0m \u001b[0;34m\u001b[0m\u001b[0m\n\u001b[1;32m    359\u001b[0m         \u001b[0m_api_call\u001b[0m\u001b[0;34m.\u001b[0m\u001b[0m__name__\u001b[0m \u001b[0;34m=\u001b[0m \u001b[0mstr\u001b[0m\u001b[0;34m(\u001b[0m\u001b[0mpy_operation_name\u001b[0m\u001b[0;34m)\u001b[0m\u001b[0;34m\u001b[0m\u001b[0m\n",
      "\u001b[0;32m~/anaconda3/envs/python3/lib/python3.6/site-packages/botocore/client.py\u001b[0m in \u001b[0;36m_make_api_call\u001b[0;34m(self, operation_name, api_params)\u001b[0m\n\u001b[1;32m    646\u001b[0m         \u001b[0;32melse\u001b[0m\u001b[0;34m:\u001b[0m\u001b[0;34m\u001b[0m\u001b[0m\n\u001b[1;32m    647\u001b[0m             http, parsed_response = self._make_request(\n\u001b[0;32m--> 648\u001b[0;31m                 operation_model, request_dict, request_context)\n\u001b[0m\u001b[1;32m    649\u001b[0m \u001b[0;34m\u001b[0m\u001b[0m\n\u001b[1;32m    650\u001b[0m         self.meta.events.emit(\n",
      "\u001b[0;32m~/anaconda3/envs/python3/lib/python3.6/site-packages/botocore/client.py\u001b[0m in \u001b[0;36m_make_request\u001b[0;34m(self, operation_model, request_dict, request_context)\u001b[0m\n\u001b[1;32m    665\u001b[0m     \u001b[0;32mdef\u001b[0m \u001b[0m_make_request\u001b[0m\u001b[0;34m(\u001b[0m\u001b[0mself\u001b[0m\u001b[0;34m,\u001b[0m \u001b[0moperation_model\u001b[0m\u001b[0;34m,\u001b[0m \u001b[0mrequest_dict\u001b[0m\u001b[0;34m,\u001b[0m \u001b[0mrequest_context\u001b[0m\u001b[0;34m)\u001b[0m\u001b[0;34m:\u001b[0m\u001b[0;34m\u001b[0m\u001b[0m\n\u001b[1;32m    666\u001b[0m         \u001b[0;32mtry\u001b[0m\u001b[0;34m:\u001b[0m\u001b[0;34m\u001b[0m\u001b[0m\n\u001b[0;32m--> 667\u001b[0;31m             \u001b[0;32mreturn\u001b[0m \u001b[0mself\u001b[0m\u001b[0;34m.\u001b[0m\u001b[0m_endpoint\u001b[0m\u001b[0;34m.\u001b[0m\u001b[0mmake_request\u001b[0m\u001b[0;34m(\u001b[0m\u001b[0moperation_model\u001b[0m\u001b[0;34m,\u001b[0m \u001b[0mrequest_dict\u001b[0m\u001b[0;34m)\u001b[0m\u001b[0;34m\u001b[0m\u001b[0m\n\u001b[0m\u001b[1;32m    668\u001b[0m         \u001b[0;32mexcept\u001b[0m \u001b[0mException\u001b[0m \u001b[0;32mas\u001b[0m \u001b[0me\u001b[0m\u001b[0;34m:\u001b[0m\u001b[0;34m\u001b[0m\u001b[0m\n\u001b[1;32m    669\u001b[0m             self.meta.events.emit(\n",
      "\u001b[0;32m~/anaconda3/envs/python3/lib/python3.6/site-packages/botocore/endpoint.py\u001b[0m in \u001b[0;36mmake_request\u001b[0;34m(self, operation_model, request_dict)\u001b[0m\n\u001b[1;32m    100\u001b[0m         logger.debug(\"Making request for %s with params: %s\",\n\u001b[1;32m    101\u001b[0m                      operation_model, request_dict)\n\u001b[0;32m--> 102\u001b[0;31m         \u001b[0;32mreturn\u001b[0m \u001b[0mself\u001b[0m\u001b[0;34m.\u001b[0m\u001b[0m_send_request\u001b[0m\u001b[0;34m(\u001b[0m\u001b[0mrequest_dict\u001b[0m\u001b[0;34m,\u001b[0m \u001b[0moperation_model\u001b[0m\u001b[0;34m)\u001b[0m\u001b[0;34m\u001b[0m\u001b[0m\n\u001b[0m\u001b[1;32m    103\u001b[0m \u001b[0;34m\u001b[0m\u001b[0m\n\u001b[1;32m    104\u001b[0m     \u001b[0;32mdef\u001b[0m \u001b[0mcreate_request\u001b[0m\u001b[0;34m(\u001b[0m\u001b[0mself\u001b[0m\u001b[0;34m,\u001b[0m \u001b[0mparams\u001b[0m\u001b[0;34m,\u001b[0m \u001b[0moperation_model\u001b[0m\u001b[0;34m=\u001b[0m\u001b[0;32mNone\u001b[0m\u001b[0;34m)\u001b[0m\u001b[0;34m:\u001b[0m\u001b[0;34m\u001b[0m\u001b[0m\n",
      "\u001b[0;32m~/anaconda3/envs/python3/lib/python3.6/site-packages/botocore/endpoint.py\u001b[0m in \u001b[0;36m_send_request\u001b[0;34m(self, request_dict, operation_model)\u001b[0m\n\u001b[1;32m    135\u001b[0m             request, operation_model, context)\n\u001b[1;32m    136\u001b[0m         while self._needs_retry(attempts, operation_model, request_dict,\n\u001b[0;32m--> 137\u001b[0;31m                                 success_response, exception):\n\u001b[0m\u001b[1;32m    138\u001b[0m             \u001b[0mattempts\u001b[0m \u001b[0;34m+=\u001b[0m \u001b[0;36m1\u001b[0m\u001b[0;34m\u001b[0m\u001b[0m\n\u001b[1;32m    139\u001b[0m             \u001b[0;31m# If there is a stream associated with the request, we need\u001b[0m\u001b[0;34m\u001b[0m\u001b[0;34m\u001b[0m\u001b[0m\n",
      "\u001b[0;32m~/anaconda3/envs/python3/lib/python3.6/site-packages/botocore/endpoint.py\u001b[0m in \u001b[0;36m_needs_retry\u001b[0;34m(self, attempts, operation_model, request_dict, response, caught_exception)\u001b[0m\n\u001b[1;32m    238\u001b[0m             logger.debug(\"Response received to retry, sleeping for \"\n\u001b[1;32m    239\u001b[0m                          \"%s seconds\", handler_response)\n\u001b[0;32m--> 240\u001b[0;31m             \u001b[0mtime\u001b[0m\u001b[0;34m.\u001b[0m\u001b[0msleep\u001b[0m\u001b[0;34m(\u001b[0m\u001b[0mhandler_response\u001b[0m\u001b[0;34m)\u001b[0m\u001b[0;34m\u001b[0m\u001b[0m\n\u001b[0m\u001b[1;32m    241\u001b[0m             \u001b[0;32mreturn\u001b[0m \u001b[0;32mTrue\u001b[0m\u001b[0;34m\u001b[0m\u001b[0m\n\u001b[1;32m    242\u001b[0m \u001b[0;34m\u001b[0m\u001b[0m\n",
      "\u001b[0;31mKeyboardInterrupt\u001b[0m: "
     ]
    }
   ],
   "source": [
    "total_output=[]\n",
    "total_output_from_review=[]\n",
    "for i in range(1000):#round(len(titles_clean)/25)):\n",
    "    if i%100==0:\n",
    "        print(i)\n",
    "    batch_idx=0+i*25\n",
    "    total_output.extend(call_batch(titles_clean[batch_idx:batch_idx+25]))\n",
    "    total_output_from_review.extend(call_batch(reviews[batch_idx:batch_idx+25]))"
   ]
  },
  {
   "cell_type": "code",
   "execution_count": 75,
   "metadata": {},
   "outputs": [],
   "source": [
    "title_output=[1 if x =='NEGATIVE' else 2 for x in total_output]\n",
    "review_output=[1 if x =='NEGATIVE' else 2 for x in total_output_from_review]"
   ]
  },
  {
   "cell_type": "code",
   "execution_count": 25,
   "metadata": {},
   "outputs": [],
   "source": [
    "responses = comprehend.start_sentiment_detection_job(\n",
    "    InputDataConfig={\n",
    "        'S3Uri': 's3://nlp-amazon-review/title_1000.csv',\n",
    "        'InputFormat': 'ONE_DOC_PER_LINE'\n",
    "    },\n",
    "    OutputDataConfig={\n",
    "        'S3Uri': 's3://nlp-amazon-review/predict_from_title_1000.csv'#,\n",
    "       # 'KmsKeyId': 'string'\n",
    "    },\n",
    "    DataAccessRoleArn='arn:aws:iam::360629003875:role/service-role/AmazonSageMaker-ExecutionRole-20190716T180741',\n",
    "    JobName='sentiment classification',\n",
    "    LanguageCode='en'\n",
    ")"
   ]
  },
  {
   "cell_type": "code",
   "execution_count": 26,
   "metadata": {},
   "outputs": [
    {
     "data": {
      "text/plain": [
       "{'JobId': '4ea82b9ea6a03c18c121b14caddc7c23',\n",
       " 'JobStatus': 'SUBMITTED',\n",
       " 'ResponseMetadata': {'RequestId': 'f7b7e5f3-bdc7-49f6-bb57-fc8f4625b26f',\n",
       "  'HTTPStatusCode': 200,\n",
       "  'HTTPHeaders': {'x-amzn-requestid': 'f7b7e5f3-bdc7-49f6-bb57-fc8f4625b26f',\n",
       "   'content-type': 'application/x-amz-json-1.1',\n",
       "   'content-length': '68',\n",
       "   'date': 'Thu, 19 Sep 2019 14:41:07 GMT'},\n",
       "  'RetryAttempts': 0}}"
      ]
     },
     "execution_count": 26,
     "metadata": {},
     "output_type": "execute_result"
    }
   ],
   "source": [
    "responses#=comprehend.describe_sentiment_detection_job(JobId= 'f325bc23d1925c577ccc726a996e1ae8')"
   ]
  },
  {
   "cell_type": "code",
   "execution_count": 15,
   "metadata": {},
   "outputs": [
    {
     "data": {
      "text/plain": [
       "'SUBMITTED'"
      ]
     },
     "execution_count": 15,
     "metadata": {},
     "output_type": "execute_result"
    }
   ],
   "source": [
    "responses['JobStatus']#['SentimentDetectionJobProperties']['JobStatus']"
   ]
  },
  {
   "cell_type": "code",
   "execution_count": null,
   "metadata": {},
   "outputs": [
    {
     "name": "stdout",
     "output_type": "stream",
     "text": [
      "2019-09-19 14:41:37.243308 SUBMITTED\n",
      "2019-09-19 14:41:42.244815 SUBMITTED\n",
      "2019-09-19 14:41:47.249963 SUBMITTED\n",
      "2019-09-19 14:41:52.255306 SUBMITTED\n",
      "2019-09-19 14:41:57.260462 SUBMITTED\n",
      "2019-09-19 14:42:02.265812 SUBMITTED\n",
      "2019-09-19 14:42:07.271332 SUBMITTED\n",
      "2019-09-19 14:42:12.276483 SUBMITTED\n",
      "2019-09-19 14:42:17.281821 SUBMITTED\n",
      "2019-09-19 14:42:22.287237 SUBMITTED\n",
      "2019-09-19 14:42:27.292577 SUBMITTED\n",
      "2019-09-19 14:42:32.297742 SUBMITTED\n",
      "2019-09-19 14:42:37.303093 SUBMITTED\n",
      "2019-09-19 14:42:42.308437 SUBMITTED\n",
      "2019-09-19 14:42:47.313589 SUBMITTED\n",
      "2019-09-19 14:42:52.316200 SUBMITTED\n",
      "2019-09-19 14:42:57.321534 SUBMITTED\n",
      "2019-09-19 14:43:02.326680 SUBMITTED\n",
      "2019-09-19 14:43:07.332019 SUBMITTED\n",
      "2019-09-19 14:43:12.337536 SUBMITTED\n",
      "2019-09-19 14:43:17.342688 SUBMITTED\n",
      "2019-09-19 14:43:22.347840 SUBMITTED\n",
      "2019-09-19 14:43:27.350531 SUBMITTED\n",
      "2019-09-19 14:43:32.354149 SUBMITTED\n",
      "2019-09-19 14:43:37.354674 SUBMITTED\n",
      "2019-09-19 14:43:42.356629 SUBMITTED\n",
      "2019-09-19 14:43:47.358574 SUBMITTED\n",
      "2019-09-19 14:43:52.360635 SUBMITTED\n",
      "2019-09-19 14:43:57.362611 SUBMITTED\n",
      "2019-09-19 14:44:02.364806 SUBMITTED\n",
      "2019-09-19 14:44:07.366851 SUBMITTED\n",
      "2019-09-19 14:44:12.368879 SUBMITTED\n",
      "2019-09-19 14:44:17.370900 SUBMITTED\n",
      "2019-09-19 14:44:22.374667 SUBMITTED\n",
      "2019-09-19 14:44:27.374983 SUBMITTED\n",
      "2019-09-19 14:44:32.380319 SUBMITTED\n",
      "2019-09-19 14:44:37.385459 SUBMITTED\n",
      "2019-09-19 14:44:42.390976 SUBMITTED\n",
      "2019-09-19 14:44:47.396487 SUBMITTED\n",
      "2019-09-19 14:44:52.401637 SUBMITTED\n",
      "2019-09-19 14:44:57.406995 SUBMITTED\n",
      "2019-09-19 14:45:02.412340 SUBMITTED\n",
      "2019-09-19 14:45:07.417768 SUBMITTED\n",
      "2019-09-19 14:45:12.423125 SUBMITTED\n",
      "2019-09-19 14:45:17.428689 SUBMITTED\n",
      "2019-09-19 14:45:22.434019 SUBMITTED\n",
      "2019-09-19 14:45:27.439345 SUBMITTED\n",
      "2019-09-19 14:45:32.444670 SUBMITTED\n",
      "2019-09-19 14:45:37.449819 SUBMITTED\n",
      "2019-09-19 14:45:42.454965 SUBMITTED\n",
      "2019-09-19 14:45:47.460484 SUBMITTED\n",
      "2019-09-19 14:45:52.465630 SUBMITTED\n",
      "2019-09-19 14:45:57.470972 SUBMITTED\n",
      "2019-09-19 14:46:02.476529 SUBMITTED\n",
      "2019-09-19 14:46:07.481677 SUBMITTED\n",
      "2019-09-19 14:46:12.486830 SUBMITTED\n",
      "2019-09-19 14:46:17.491967 SUBMITTED\n",
      "2019-09-19 14:46:22.497103 SUBMITTED\n",
      "2019-09-19 14:46:27.498189 SUBMITTED\n",
      "2019-09-19 14:46:32.499886 SUBMITTED\n",
      "2019-09-19 14:46:37.505223 SUBMITTED\n",
      "2019-09-19 14:46:42.510732 SUBMITTED\n",
      "2019-09-19 14:46:47.516292 SUBMITTED\n",
      "2019-09-19 14:46:52.521438 SUBMITTED\n",
      "2019-09-19 14:46:57.526767 SUBMITTED\n",
      "2019-09-19 14:47:02.531918 SUBMITTED\n",
      "2019-09-19 14:47:07.537074 SUBMITTED\n",
      "2019-09-19 14:47:12.542422 SUBMITTED\n",
      "2019-09-19 14:47:17.547836 SUBMITTED\n",
      "2019-09-19 14:47:22.552997 SUBMITTED\n",
      "2019-09-19 14:47:27.558345 SUBMITTED\n",
      "2019-09-19 14:47:32.563495 SUBMITTED\n",
      "2019-09-19 14:47:37.568857 SUBMITTED\n",
      "2019-09-19 14:47:42.570176 SUBMITTED\n",
      "2019-09-19 14:47:47.575315 SUBMITTED\n",
      "2019-09-19 14:47:52.580663 SUBMITTED\n",
      "2019-09-19 14:47:57.585806 SUBMITTED\n",
      "2019-09-19 14:48:02.591359 SUBMITTED\n",
      "2019-09-19 14:48:07.596698 SUBMITTED\n",
      "2019-09-19 14:48:12.602022 SUBMITTED\n",
      "2019-09-19 14:48:17.607356 SUBMITTED\n",
      "2019-09-19 14:48:22.612700 SUBMITTED\n",
      "2019-09-19 14:48:27.618027 SUBMITTED\n",
      "2019-09-19 14:48:32.620546 SUBMITTED\n",
      "2019-09-19 14:48:37.625704 SUBMITTED\n",
      "2019-09-19 14:48:42.631045 SUBMITTED\n",
      "2019-09-19 14:48:47.633378 SUBMITTED\n",
      "2019-09-19 14:48:52.637123 SUBMITTED\n",
      "2019-09-19 14:48:57.642273 SUBMITTED\n",
      "2019-09-19 14:49:02.647611 SUBMITTED\n",
      "2019-09-19 14:49:07.652946 SUBMITTED\n",
      "2019-09-19 14:49:12.658286 SUBMITTED\n",
      "2019-09-19 14:49:17.663615 SUBMITTED\n",
      "2019-09-19 14:49:22.669129 SUBMITTED\n",
      "2019-09-19 14:49:27.674465 SUBMITTED\n",
      "2019-09-19 14:49:32.677820 SUBMITTED\n",
      "2019-09-19 14:49:37.682965 SUBMITTED\n",
      "2019-09-19 14:49:42.688470 SUBMITTED\n",
      "2019-09-19 14:49:47.693809 SUBMITTED\n",
      "2019-09-19 14:49:52.695646 SUBMITTED\n",
      "2019-09-19 14:49:57.700981 SUBMITTED\n",
      "2019-09-19 14:50:02.706312 SUBMITTED\n",
      "2019-09-19 14:50:07.709806 SUBMITTED\n",
      "2019-09-19 14:50:12.713805 SUBMITTED\n",
      "2019-09-19 14:50:17.717814 SUBMITTED\n",
      "2019-09-19 14:50:22.721822 SUBMITTED\n",
      "2019-09-19 14:50:27.725805 SUBMITTED\n",
      "2019-09-19 14:50:32.731129 SUBMITTED\n",
      "2019-09-19 14:50:37.736273 SUBMITTED\n",
      "2019-09-19 14:50:42.741404 SUBMITTED\n",
      "2019-09-19 14:50:47.745773 SUBMITTED\n",
      "2019-09-19 14:50:52.749806 SUBMITTED\n",
      "2019-09-19 14:50:57.754935 SUBMITTED\n",
      "2019-09-19 14:51:02.757812 SUBMITTED\n",
      "2019-09-19 14:51:07.761809 SUBMITTED\n",
      "2019-09-19 14:51:12.767157 SUBMITTED\n",
      "2019-09-19 14:51:17.769815 SUBMITTED\n",
      "2019-09-19 14:51:22.773807 SUBMITTED\n",
      "2019-09-19 14:51:27.777802 SUBMITTED\n",
      "2019-09-19 14:51:32.781808 SUBMITTED\n",
      "2019-09-19 14:51:37.785804 SUBMITTED\n",
      "2019-09-19 14:51:42.789812 SUBMITTED\n",
      "2019-09-19 14:51:47.794990 SUBMITTED\n",
      "2019-09-19 14:51:52.800329 SUBMITTED\n",
      "2019-09-19 14:51:57.805657 SUBMITTED\n",
      "2019-09-19 14:52:02.810075 SUBMITTED\n",
      "2019-09-19 14:52:07.815415 SUBMITTED\n",
      "2019-09-19 14:52:12.817806 SUBMITTED\n",
      "2019-09-19 14:52:17.819986 SUBMITTED\n",
      "2019-09-19 14:52:22.821810 SUBMITTED\n",
      "2019-09-19 14:52:27.823938 SUBMITTED\n",
      "2019-09-19 14:52:32.826040 SUBMITTED\n",
      "2019-09-19 14:52:37.829804 SUBMITTED\n",
      "2019-09-19 14:52:42.830181 SUBMITTED\n",
      "2019-09-19 14:52:47.835334 SUBMITTED\n",
      "2019-09-19 14:52:52.837747 SUBMITTED\n",
      "2019-09-19 14:52:57.838237 SUBMITTED\n",
      "2019-09-19 14:53:02.838502 SUBMITTED\n",
      "2019-09-19 14:53:07.839131 SUBMITTED\n",
      "2019-09-19 14:53:12.842515 SUBMITTED\n",
      "2019-09-19 14:53:17.845804 SUBMITTED\n",
      "2019-09-19 14:53:22.846820 SUBMITTED\n",
      "2019-09-19 14:53:27.848814 SUBMITTED\n"
     ]
    }
   ],
   "source": [
    "import time\n",
    "\n",
    "import datetime\n",
    " \n",
    "\n",
    "while True: \n",
    "    time.sleep(5)\n",
    "    currentDT = datetime.datetime.now()\n",
    "    #responses=comprehend.describe_sentiment_detection_job(JobId= 'f325bc23d1925c577ccc726a996e1ae8')\n",
    "    status=responses['JobStatus']#['SentimentDetectionJobProperties']['JobStatus']\n",
    "    if status in ['SUBMITTED','IN_PROGRESS']:#'COMPLETE':\n",
    "        print(currentDT,status)\n",
    "    elif status=='COMPLETED':\n",
    "        print(\"complete!\")\n",
    "    else:\n",
    "        break"
   ]
  },
  {
   "cell_type": "code",
   "execution_count": 8,
   "metadata": {},
   "outputs": [
    {
     "name": "stdout",
     "output_type": "stream",
     "text": [
      "fatal error: An error occurred (404) when calling the HeadObject operation: Key \"predict_from_title_1000.csv\" does not exist\r\n"
     ]
    }
   ],
   "source": [
    "!aws s3 cp s3://nlp-amazon-review/predict_from_title_1000.csv ./"
   ]
  },
  {
   "cell_type": "code",
   "execution_count": 12,
   "metadata": {},
   "outputs": [
    {
     "name": "stdout",
     "output_type": "stream",
     "text": [
      "                           PRE predict_from_title.csv/\r\n",
      "                           PRE predict_from_title_1000.csv/\r\n",
      "2019-09-18 19:13:58  643695014 amazon_review_full_csv.tgz\r\n",
      "2019-09-18 19:24:57       1538 readme.txt\r\n",
      "2019-09-18 19:24:57  176046679 test.csv\r\n",
      "2019-09-18 20:50:36      29394 title_1000.csv\r\n",
      "2019-09-18 19:41:10  120288528 titles.csv\r\n",
      "2019-09-18 19:24:57 1585200224 train.csv\r\n"
     ]
    }
   ],
   "source": [
    "!aws s3 ls s3://nlp-amazon-review/"
   ]
  },
  {
   "cell_type": "code",
   "execution_count": null,
   "metadata": {},
   "outputs": [],
   "source": []
  }
 ],
 "metadata": {
  "kernelspec": {
   "display_name": "conda_python3",
   "language": "python",
   "name": "conda_python3"
  }
 },
 "nbformat": 4,
 "nbformat_minor": 2
}
